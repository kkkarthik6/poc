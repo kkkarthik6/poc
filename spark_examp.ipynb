{
 "cells": [
  {
   "cell_type": "code",
   "execution_count": 2,
   "metadata": {},
   "outputs": [],
   "source": [
    "from pyspark import SparkContext\n",
    "import dask\n",
    "import numba\n",
    "sc = SparkContext(\"local\", \"First App\")"
   ]
  },
  {
   "cell_type": "code",
   "execution_count": 3,
   "metadata": {},
   "outputs": [
    {
     "name": "stdout",
     "output_type": "stream",
     "text": [
      "Number of elements in RDD -> 8\n"
     ]
    }
   ],
   "source": [
    "words = sc.parallelize (\n",
    "   [\"scala\", \n",
    "   \"java\", \n",
    "   \"hadoop\", \n",
    "   \"spark\", \n",
    "   \"akka\",\n",
    "   \"spark vs hadoop\", \n",
    "   \"pyspark\",\n",
    "   \"pyspark and spark\"]\n",
    ")\n",
    "counts = words.count()\n",
    "print \"Number of elements in RDD -> %i\" % (counts)"
   ]
  },
  {
   "cell_type": "code",
   "execution_count": 4,
   "metadata": {},
   "outputs": [],
   "source": [
    "coll = words.collect()"
   ]
  },
  {
   "cell_type": "code",
   "execution_count": 10,
   "metadata": {},
   "outputs": [
    {
     "name": "stdout",
     "output_type": "stream",
     "text": [
      "-0.000379085540771\n",
      "['sala', 'java', 'hadoop']\n"
     ]
    }
   ],
   "source": [
    "import re\n",
    "from pyspark.sql.functions import *\n",
    "from pyspark.sql.types import *\n",
    "import time\n",
    "def repl(x):\n",
    "    return re.sub('c','',x)\n",
    "start=time.time()\n",
    "resu=words.map(lambda x:repl(x))\n",
    "end=time.time()\n",
    "print start-end\n",
    "print resu.take(3)\n"
   ]
  },
  {
   "cell_type": "code",
   "execution_count": 11,
   "metadata": {},
   "outputs": [
    {
     "name": "stdout",
     "output_type": "stream",
     "text": [
      "-0.000168800354004\n"
     ]
    },
    {
     "data": {
      "text/plain": [
       "['sala',\n",
       " 'java',\n",
       " 'hadoop',\n",
       " 'spark',\n",
       " 'akka',\n",
       " 'spark vs hadoop',\n",
       " 'pyspark',\n",
       " 'pyspark and spark']"
      ]
     },
     "execution_count": 11,
     "metadata": {},
     "output_type": "execute_result"
    }
   ],
   "source": [
    "import time\n",
    "start=time.time()\n",
    "resu=map(lambda x:re.sub('c','',x),coll)\n",
    "end=time.time()\n",
    "print start-end\n",
    "resu"
   ]
  },
  {
   "cell_type": "code",
   "execution_count": 12,
   "metadata": {},
   "outputs": [
    {
     "name": "stdout",
     "output_type": "stream",
     "text": [
      "root\n",
      " |-- floats: string (nullable = true)\n",
      "\n",
      "+-----------------+-----------------+\n",
      "|           floats|    float_squared|\n",
      "+-----------------+-----------------+\n",
      "|            scala|             sala|\n",
      "|             java|             java|\n",
      "|           hadoop|           hadoop|\n",
      "|            spark|            spark|\n",
      "|             akka|             akka|\n",
      "|  spark vs hadoop|  spark vs hadoop|\n",
      "|          pyspark|          pyspark|\n",
      "|pyspark and spark|pyspark and spark|\n",
      "+-----------------+-----------------+\n",
      "\n",
      "-1.30828022957\n"
     ]
    }
   ],
   "source": [
    "import pandas as pd\n",
    "df_pd = pd.DataFrame(\n",
    "    data={\n",
    "     'floats': coll,\n",
    "     }\n",
    ")\n",
    "spark = SparkSession(sc)\n",
    "df = spark.createDataFrame(df_pd)\n",
    "df.printSchema()\n",
    "def square(x):\n",
    "    return re.sub('c','',x)\n",
    "square_udf_int = udf(lambda z: square(z), StringType())\n",
    "start=time.time()\n",
    "df.select(  'floats',\n",
    "              square_udf_int('floats').alias('float_squared')).show()\n",
    "end=time.time()\n",
    "print start-end"
   ]
  },
  {
   "cell_type": "code",
   "execution_count": null,
   "metadata": {},
   "outputs": [],
   "source": [
    "\n"
   ]
  },
  {
   "cell_type": "code",
   "execution_count": null,
   "metadata": {},
   "outputs": [],
   "source": []
  }
 ],
 "metadata": {
  "kernelspec": {
   "display_name": "Python 2",
   "language": "python",
   "name": "python2"
  },
  "language_info": {
   "codemirror_mode": {
    "name": "ipython",
    "version": 2
   },
   "file_extension": ".py",
   "mimetype": "text/x-python",
   "name": "python",
   "nbconvert_exporter": "python",
   "pygments_lexer": "ipython2",
   "version": "2.7.12"
  }
 },
 "nbformat": 4,
 "nbformat_minor": 2
}
